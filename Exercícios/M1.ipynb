{
  "nbformat": 4,
  "nbformat_minor": 0,
  "metadata": {
    "colab": {
      "provenance": []
    },
    "kernelspec": {
      "name": "python3",
      "display_name": "Python 3"
    },
    "language_info": {
      "name": "python"
    }
  },
  "cells": [
    {
      "cell_type": "markdown",
      "source": [
        "1º Exercício"
      ],
      "metadata": {
        "id": "z3qebwjmsXRj"
      }
    },
    {
      "cell_type": "code",
      "source": [
        "print(\"Olá, mundo\")"
      ],
      "metadata": {
        "colab": {
          "base_uri": "https://localhost:8080/"
        },
        "id": "GFMDTxkWmq5q",
        "outputId": "f6135cb4-5ab4-45b7-bfed-d57498a80024"
      },
      "execution_count": null,
      "outputs": [
        {
          "output_type": "stream",
          "name": "stdout",
          "text": [
            "Olá, mundo\n"
          ]
        }
      ]
    },
    {
      "cell_type": "markdown",
      "source": [
        "![depositphotos_64716325-stock-photo-sunrise-on-earth.jpg](data:image/jpeg;base64,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)"
      ],
      "metadata": {
        "id": "28w1ir5lrLJl"
      }
    },
    {
      "cell_type": "markdown",
      "source": [
        "2º Exercício"
      ],
      "metadata": {
        "id": "3iHYxbLNsgHx"
      }
    },
    {
      "cell_type": "markdown",
      "source": [
        "                      Dia    Valor Total Vendas  Qtd Total Vendas  Ticket Médio\n",
        "                     16/10   610,57              2                 ?\n",
        "                     25/10   805,90              9                 ?\n",
        "                     27/10   715,48              4                 ?\n",
        "\n",
        "\n",
        "\n"
      ],
      "metadata": {
        "id": "VPeV6jBYuGf1"
      }
    },
    {
      "cell_type": "markdown",
      "source": [
        "Ticket médio diário do dia 16/10"
      ],
      "metadata": {
        "id": "Ra445GvZvsRN"
      }
    },
    {
      "cell_type": "code",
      "source": [
        "svv_16 = 610.57\n",
        "sqv_16 = 2\n",
        "\n",
        "tkt_16 = svv_16 / sqv_16\n",
        "print(tkt_16)"
      ],
      "metadata": {
        "colab": {
          "base_uri": "https://localhost:8080/"
        },
        "id": "6d3ZP9UEvo6g",
        "outputId": "e77a7204-2aa0-4388-994d-344d96358d0a"
      },
      "execution_count": null,
      "outputs": [
        {
          "output_type": "stream",
          "name": "stdout",
          "text": [
            "305.285\n"
          ]
        }
      ]
    },
    {
      "cell_type": "markdown",
      "source": [
        "Ticket médio diário do dia 25/10"
      ],
      "metadata": {
        "id": "N9BoznhqwPiD"
      }
    },
    {
      "cell_type": "code",
      "source": [
        "svv_25 = 805.90\n",
        "sqv_25 = 9\n",
        "\n",
        "tkt_25 = svv_25 / sqv_25\n",
        "print(tkt_25)"
      ],
      "metadata": {
        "colab": {
          "base_uri": "https://localhost:8080/"
        },
        "id": "-3EcICxZwWNX",
        "outputId": "2fd364d6-8539-4b26-d2ea-1eb1583392dc"
      },
      "execution_count": null,
      "outputs": [
        {
          "output_type": "stream",
          "name": "stdout",
          "text": [
            "89.54444444444444\n"
          ]
        }
      ]
    },
    {
      "cell_type": "markdown",
      "source": [
        "Ticket médio diário do dia 27/10"
      ],
      "metadata": {
        "id": "4KWHxk8GwpgR"
      }
    },
    {
      "cell_type": "code",
      "source": [
        "svv_27 = 715.48\n",
        "sqv_27 = 4\n",
        "\n",
        "tkt_27 = svv_27 / sqv_27\n",
        "print(tkt_27)"
      ],
      "metadata": {
        "colab": {
          "base_uri": "https://localhost:8080/"
        },
        "id": "rThsgjQ_wp1O",
        "outputId": "64b16f01-1756-4336-c8cb-b6d15b745464"
      },
      "execution_count": null,
      "outputs": [
        {
          "output_type": "stream",
          "name": "stdout",
          "text": [
            "178.87\n"
          ]
        }
      ]
    },
    {
      "cell_type": "markdown",
      "source": [
        "3º Exercício\n"
      ],
      "metadata": {
        "id": "a0AU7JOOxD6z"
      }
    },
    {
      "cell_type": "code",
      "source": [
        "nome = \"Pedro\"\n",
        "sobrenome = \"Vidal\"\n",
        "\n",
        "apresentação = 'Olá, meu nome é ' + nome + ' ' + sobrenome + '.'\n",
        "print(apresentação)"
      ],
      "metadata": {
        "colab": {
          "base_uri": "https://localhost:8080/"
        },
        "id": "erN7TnDqxGqO",
        "outputId": "44d71e2d-b894-4887-d157-546aebe8b099"
      },
      "execution_count": null,
      "outputs": [
        {
          "output_type": "stream",
          "name": "stdout",
          "text": [
            "Olá, meu nome é Pedro Vidal.\n"
          ]
        }
      ]
    },
    {
      "cell_type": "code",
      "source": [
        "idade = 25\n",
        "print(idade)"
      ],
      "metadata": {
        "colab": {
          "base_uri": "https://localhost:8080/"
        },
        "id": "iJK4qSdKyPMc",
        "outputId": "bc09f0eb-db44-43f7-ac1e-04bb1c2910b0"
      },
      "execution_count": 3,
      "outputs": [
        {
          "output_type": "stream",
          "name": "stdout",
          "text": [
            "25\n"
          ]
        }
      ]
    },
    {
      "cell_type": "code",
      "source": [
        "email = 'pedrovidal124@gmail.com'\n",
        "\n",
        "print('2: ' + email[2])\n",
        "print('5: ' + email[5])"
      ],
      "metadata": {
        "id": "P3IRnwr8y1eL",
        "colab": {
          "base_uri": "https://localhost:8080/"
        },
        "outputId": "05f43c4b-01f4-486e-cabc-3ee249adc564"
      },
      "execution_count": 8,
      "outputs": [
        {
          "output_type": "stream",
          "name": "stdout",
          "text": [
            "2: d\n",
            "5: v\n"
          ]
        }
      ]
    },
    {
      "cell_type": "markdown",
      "source": [
        "4º Exercício"
      ],
      "metadata": {
        "id": "JNuYwiZizz6k"
      }
    },
    {
      "cell_type": "markdown",
      "source": [
        "\n",
        "\n",
        "                             A     B\n",
        "                            True  True\n",
        "                            True  False\n",
        "                            False False\n",
        "                            False True"
      ],
      "metadata": {
        "id": "v1gdK4Wz3Ppy"
      }
    },
    {
      "cell_type": "code",
      "source": [
        "print(True | True)\n",
        "print(True | False)\n",
        "print(False | False)\n",
        "print(False | True )"
      ],
      "metadata": {
        "id": "OjLAcJEhz0Ub",
        "colab": {
          "base_uri": "https://localhost:8080/"
        },
        "outputId": "eb99a1ab-bb67-4d1a-8063-0e4ad53de7af"
      },
      "execution_count": 1,
      "outputs": [
        {
          "output_type": "stream",
          "name": "stdout",
          "text": [
            "True\n",
            "True\n",
            "False\n",
            "True\n"
          ]
        }
      ]
    }
  ]
}