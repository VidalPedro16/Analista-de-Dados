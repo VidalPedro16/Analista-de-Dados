{
  "nbformat": 4,
  "nbformat_minor": 0,
  "metadata": {
    "colab": {
      "provenance": [],
      "toc_visible": true
    },
    "kernelspec": {
      "name": "python3",
      "display_name": "Python 3"
    }
  },
  "cells": [
    {
      "cell_type": "markdown",
      "metadata": {
        "id": "KJqp9AANOCtf"
      },
      "source": [
        "<img src=\"https://raw.githubusercontent.com/andre-marcos-perez/ebac-course-utils/main/media/logo/newebac_logo_black_half.png\" alt=\"ebac-logo\">\n",
        "\n",
        "---\n",
        "\n",
        "# **Módulo** | Python: Estruturas de Dados\n",
        "Caderno de **Exercícios**<br>\n",
        "Professor [André Perez](https://www.linkedin.com/in/andremarcosperez/)\n",
        "\n",
        "---"
      ]
    },
    {
      "cell_type": "markdown",
      "metadata": {
        "id": "d9jDtUbDOE1-"
      },
      "source": [
        "# **Tópicos**\n",
        "\n",
        "<ol type=\"1\">\n",
        "  <li>Listas;</li>\n",
        "  <li>Conjuntos;</li>\n",
        "  <li>Dicionários.</li>\n",
        "</ol>"
      ]
    },
    {
      "cell_type": "markdown",
      "metadata": {
        "id": "SmoHgt-lwkpD"
      },
      "source": [
        "---"
      ]
    },
    {
      "cell_type": "markdown",
      "metadata": {
        "id": "GABI6OW8OfQ2"
      },
      "source": [
        "# **Exercícios**"
      ]
    },
    {
      "cell_type": "markdown",
      "metadata": {
        "id": "muD1vxozykSC"
      },
      "source": [
        "## 1\\. Listas"
      ]
    },
    {
      "cell_type": "markdown",
      "metadata": {
        "id": "ahrFfCuBxJKs"
      },
      "source": [
        "Criei uma lista chamada `filmes` com o nome dos 10 primeiros filmes mais bem avaliados no site no [IMDB](https://www.imdb.com/chart/top/). Imprima o resultado."
      ]
    },
    {
      "cell_type": "code",
      "metadata": {
        "id": "OgL6Hv3bzOHI"
      },
      "source": [
        "filmes = ['Um Sonho de Liberdade', 'O Poderoso Chefão', 'Batman: O Cavaleiro das Trevas', 'O Poderoso Chefão: Parte 2', 'Pulp Fiction', 'A Lista de Schindler', 'O Senhor dos Anéis: O Retorno do Rei', 'Três Homens em Conflito', 'Homens e uma Sentença', 'O Senhor dos Anéis: A Sociedade do Anel']\n",
        "print(filmes)"
      ],
      "execution_count": null,
      "outputs": []
    },
    {
      "cell_type": "markdown",
      "metadata": {
        "id": "KI9zQRT2xa7m"
      },
      "source": [
        "Simule a movimentação do *ranking*. Utilize os métodos `insert` e `pop` para trocar a posição do primeiro e do segundo filme da lista. Imprima o resultado.\n",
        "\n"
      ]
    },
    {
      "cell_type": "code",
      "metadata": {
        "id": "zX3mA3_GzrXH",
        "colab": {
          "base_uri": "https://localhost:8080/"
        },
        "outputId": "20ee44b9-4d90-42d9-dcec-5ebb42747982"
      },
      "source": [
        "quinto_filmes = filmes.pop(4)\n",
        "print(quinto_filmes)\n",
        "\n",
        "filmes.insert(5, 'Um Sonho de Liberdade')\n",
        "print(filmes)\n",
        "\n"
      ],
      "execution_count": 11,
      "outputs": [
        {
          "output_type": "stream",
          "name": "stdout",
          "text": [
            "Um Sonho de Liberdade\n",
            "['Três Homens em Conflito', '12 Homens e uma Sentença', 'O Senhor dos Anéis: A Sociedade do Anel', 'O Senhor dos Anéis: A Socidade do Anel', 'Um Sonho de Liberdade', 'Um Sonho de Liberdade']\n"
          ]
        }
      ]
    },
    {
      "cell_type": "code",
      "source": [
        "nono_filmes = filmes.pop(8)\n",
        "print(nono_filmes)\n",
        "\n",
        "filmes.insert(9, 'O Poderoso Chefão')"
      ],
      "metadata": {
        "id": "a_JkTjqrm_xE"
      },
      "execution_count": null,
      "outputs": []
    },
    {
      "cell_type": "markdown",
      "metadata": {
        "id": "zMN1Q3jdwoJm"
      },
      "source": [
        "---"
      ]
    },
    {
      "cell_type": "markdown",
      "metadata": {
        "id": "lxa5L6uF0ZJE"
      },
      "source": [
        "## 2\\. Conjuntos"
      ]
    },
    {
      "cell_type": "markdown",
      "metadata": {
        "id": "9JahS2Kj0d5u"
      },
      "source": [
        "Aconteceu um erro no seu *ranking*. Simule a duplicação dos três últimos filmes da lista. Imprima o resultado."
      ]
    },
    {
      "cell_type": "code",
      "metadata": {
        "id": "BnjnLBNC6PGe",
        "colab": {
          "base_uri": "https://localhost:8080/"
        },
        "outputId": "dda63cd4-a137-427a-e88d-50343ef637d5"
      },
      "source": [
        "filmes.append('Três Homens em Conflito')\n",
        "filmes.insert(8,'12 Homens e uma Sentença')\n",
        "filmes.insert(9,'O Senhor dos Anéis: A Sociedade do Anel')\n",
        "print(filmes)\n",
        "print(type(filmes))"
      ],
      "execution_count": 12,
      "outputs": [
        {
          "output_type": "stream",
          "name": "stdout",
          "text": [
            "['Três Homens em Conflito', '12 Homens e uma Sentença', 'O Senhor dos Anéis: A Sociedade do Anel', 'O Senhor dos Anéis: A Socidade do Anel', 'Um Sonho de Liberdade', 'Um Sonho de Liberdade', 'Três Homens em Conflito', '12 Homens e uma Sentença', 'O Senhor dos Anéis: A Sociedade do Anel']\n",
            "<class 'list'>\n"
          ]
        }
      ]
    },
    {
      "cell_type": "markdown",
      "metadata": {
        "id": "suxTfCJB6ZiX"
      },
      "source": [
        "Utiliza a conversão `set` e `list` para remover os valores duplicados. Imprima o resultado."
      ]
    },
    {
      "cell_type": "code",
      "metadata": {
        "id": "ZvUGN-0n6joM"
      },
      "source": [
        "filmes = set(filmes)\n",
        "print(filmes)\n",
        "print(type(filmes))"
      ],
      "execution_count": null,
      "outputs": []
    },
    {
      "cell_type": "markdown",
      "metadata": {
        "id": "ShkK35eQ6pAM"
      },
      "source": [
        "---"
      ]
    },
    {
      "cell_type": "markdown",
      "metadata": {
        "id": "EL_FzmxL6rTv"
      },
      "source": [
        "## 3\\. Dicionários"
      ]
    },
    {
      "cell_type": "markdown",
      "metadata": {
        "id": "i8l0gFqRCpfT"
      },
      "source": [
        "Repita os exercícios da parte 1 (listas). Os elementos da lista `filmes` devem ser dicionários no seguinte formato: `{'nome': <nome-do-filme>, 'ano': <ano do filme>, 'sinopse': <sinopse do filme>}`."
      ]
    },
    {
      "cell_type": "code",
      "metadata": {
        "id": "tu6MSFwGDnHv"
      },
      "source": [
        "filmes = {'nome': Um Sonho de Liberdade, 'ano': 1994, 'sinopse': um jovem e bem sucedido banqueiro, tem a sua vida radicalmente modificada quando mandado para uma penitenciária}\n",
        "filmes = {'nome': O Poderoso Chefão, 'ano': 1972, 'sinopse': Don Corleone costuma apadrinhar várias pessoas, realizando importantes favores para elas, em troca de favores futuros}\n",
        "filmes = {'nome': Batman: O Cavaleiro das Trevas, 'ano': 2008, 'sinopse': Batman luta contra o crime organizado}\n",
        "filmes = {'nome': O Poderoso Chefão: Parte II, 'ano': 1974, 'sinopse': Michael Corleone está agora a frente da família e tenta expandir os seus negócios por Las Vegas}\n",
        "filmes = {'nome': Pulp Fiction, 'ano': 1994, 'sinopse': um pistoleiro se apaixona pela mulher do seu chefe}\n",
        "filmes = {'nome': A Lista de Schindler, 'ano': 1993, 'sinopse': mão de obra judia uma solução barata e viável para lucrar com negócios durante a guerra}\n",
        "filmes = {'nome': O Senhor dos Anéis: O Retorno do Rei, 'ano': 2003, 'sinopse': sauron planeja um grande ataque a minas tirith }\n",
        "filmes = {'nome': Três Homens em Conflito, 'ano': 1966, 'sinopse': homem sem nome se alia a dois pistoleiros para ir atrás de uma fortuna em ouro roubado}\n",
        "filmes = {'nome': 12 Homens e uma Sentença, 'ano': 1957, 'sinopse': um jovem porto-riquenho é acusado de ter matado o próprio pai}\n",
        "filmes = {'nome': O Senhor dos Anéis: A Sociedade do Anel, 'ano': 2001, 'sinopse': um anel mágico e maligno que precisa ser destruído antes que caia nas mãos do mal}\n",
        "\n",
        "print(filmes)"
      ],
      "execution_count": null,
      "outputs": []
    }
  ]
}